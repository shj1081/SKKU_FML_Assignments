{
 "cells": [
  {
   "cell_type": "markdown",
   "metadata": {},
   "source": [
    "# A6 : Decision Tree"
   ]
  },
  {
   "cell_type": "markdown",
   "metadata": {},
   "source": [
    "## 1. Calculate entropy and gain"
   ]
  },
  {
   "cell_type": "code",
   "execution_count": 1,
   "metadata": {},
   "outputs": [
    {
     "name": "stdout",
     "output_type": "stream",
     "text": [
      "1.a\n",
      "\n",
      "Original entropy: 0.9544\n",
      "Entropy after split 1: 0.7219\n",
      "Entropy after split 2: 0.9183\n",
      "\n",
      "1.b\n",
      "\n",
      "Average entropy after the split: 0.7956\n",
      "\n",
      "1.c\n",
      "\n",
      "gain of the split: 0.1589\n"
     ]
    }
   ],
   "source": [
    "import math\n",
    "\n",
    "# function to calculate entropy\n",
    "def entropy(p):\n",
    "    return -sum(x * math.log2(x) if x > 0 else 0 for x in p) # Avoid log(0)\n",
    "\n",
    "# Probabilities for each set\n",
    "p_original = [5/8, 3/8]\n",
    "p_sub1 = [4/5, 1/5]\n",
    "p_sub2 = [1/3, 2/3]\n",
    "\n",
    "# Entropy calculations\n",
    "entropy_original = entropy(p_original)\n",
    "entropy_sub1 = entropy(p_sub1)\n",
    "entropy_sub2 = entropy(p_sub2)\n",
    "\n",
    "# Average entropy after the split\n",
    "p1 = 5 / 8  # proportion of subset 1\n",
    "p2 = 3 / 8  # proportion of subset 2\n",
    "average_after_split_entropy = p1 * entropy_sub1 + p2 * entropy_sub2\n",
    "\n",
    "# Information gain from the split\n",
    "gain_of_split = entropy_original - average_after_split_entropy\n",
    "\n",
    "# Print results\n",
    "\n",
    "print(\"1.a\\n\")\n",
    "print(f\"Original entropy: {entropy_original:.4f}\")\n",
    "print(f\"Entropy after split 1: {entropy_sub1:.4f}\")\n",
    "print(f\"Entropy after split 2: {entropy_sub2:.4f}\")\n",
    "\n",
    "print(\"\\n1.b\\n\")\n",
    "print(f\"Average entropy after the split: {average_after_split_entropy:.4f}\")\n",
    "\n",
    "print(\"\\n1.c\\n\")\n",
    "print(f\"gain of the split: {gain_of_split:.4f}\")\n"
   ]
  },
  {
   "cell_type": "markdown",
   "metadata": {},
   "source": [
    "2. Build a decision tree with ID3 algorithm"
   ]
  },
  {
   "cell_type": "code",
   "execution_count": 2,
   "metadata": {},
   "outputs": [
    {
     "name": "stdout",
     "output_type": "stream",
     "text": [
      "     Outlook  Temp Humidity    Wind Play\n",
      "0      Sunny   Hot     High    Weak   No\n",
      "1      Sunny   Hot     High  Strong   No\n",
      "2   Overcast   Hot     High    Weak  Yes\n",
      "3       Rain  Mild     High    Weak  Yes\n",
      "4       Rain  Cool   Normal    Weak  Yes\n",
      "5       Rain  Cool   Normal  Strong   No\n",
      "6   Overcast  Cool   Normal  Strong   No\n",
      "7      Sunny  Mild     High    Weak   No\n",
      "8      Sunny  Cool   Normal    Weak  Yes\n",
      "9       Rain  Mild   Normal    Weak  Yes\n",
      "10     Sunny  Mild   Normal  Strong  Yes\n",
      "11  Overcast  Mild     High  Strong   No\n",
      "12  Overcast   Hot   Normal    Weak  Yes\n",
      "13      Rain  Mild     High  Strong   No\n",
      "Overall entropy: 1.0000\n",
      "\n",
      "\n",
      "Gain of split for Outlook: 0.0207\n",
      "Gain of split for Temp: 0.0000\n",
      "Gain of split for Humidity: 0.1369\n",
      "Gain of split for Wind: 0.2578\n",
      "\n",
      "Best attribute to split on: Wind\n"
     ]
    }
   ],
   "source": [
    "import pandas as pd\n",
    "\n",
    "# Data from the table\n",
    "data = {\n",
    "    'Outlook': ['Sunny', 'Sunny', 'Overcast', 'Rain', 'Rain', 'Rain', 'Overcast', 'Sunny', 'Sunny', 'Rain', 'Sunny', 'Overcast', 'Overcast', 'Rain'],\n",
    "    'Temp': ['Hot', 'Hot', 'Hot', 'Mild', 'Cool', 'Cool', 'Cool', 'Mild', 'Cool', 'Mild', 'Mild', 'Mild', 'Hot', 'Mild'],\n",
    "    'Humidity': ['High', 'High', 'High', 'High', 'Normal', 'Normal', 'Normal', 'High', 'Normal', 'Normal', 'Normal', 'High', 'Normal', 'High'],\n",
    "    'Wind': ['Weak', 'Strong', 'Weak', 'Weak', 'Weak', 'Strong', 'Strong', 'Weak', 'Weak', 'Weak', 'Strong', 'Strong', 'Weak', 'Strong'],\n",
    "    'Play': ['No', 'No', 'Yes', 'Yes', 'Yes', 'No', 'No', 'No', 'Yes', 'Yes', 'Yes', 'No', 'Yes', 'No']\n",
    "}\n",
    "df = pd.DataFrame(data)\n",
    "\n",
    "# print the data\n",
    "print(df)\n",
    "\n",
    "\n",
    "# Calculate the entropy for the whole dataset\n",
    "play_counts = df['Play'].value_counts()\n",
    "total = df['Play'].count()\n",
    "origin_entropty = entropy(play_counts / total)\n",
    "\n",
    "# Calculate entropy for each attribute and their Information Gain\n",
    "def entropy_of_attribute(dataframe, attribute, target):\n",
    "    attribute_values = dataframe[attribute].unique() # Unique values of the attribute\n",
    "    total_entropy = 0\n",
    "    total_count = len(dataframe)\n",
    "    \n",
    "    for value in attribute_values:\n",
    "        subset = dataframe[dataframe[attribute] == value]\n",
    "        count = len(subset)\n",
    "        target_counts = subset[target].value_counts()\n",
    "        entropy_val = entropy(target_counts / count)\n",
    "        total_entropy += (count / total_count) * entropy_val\n",
    "    \n",
    "    return total_entropy\n",
    "\n",
    "# Calculate gain of split for each attribute\n",
    "gain_of_split = {}\n",
    "attributes = ['Outlook', 'Temp', 'Humidity', 'Wind']\n",
    "for attribute in attributes:\n",
    "    attr_entropy = entropy_of_attribute(df, attribute, 'Play')\n",
    "    gain_of_split[attribute] = origin_entropty - attr_entropy\n",
    "\n",
    "# Print results\n",
    "print(f\"Overall entropy: {origin_entropty:.4f}\")\n",
    "print(\"\\n\")\n",
    "for attribute, gain in gain_of_split.items():\n",
    "    print(f\"Gain of split for {attribute}: {gain:.4f}\")\n",
    "    \n",
    "# choose the attribute with the highest gain\n",
    "best_attribute = max(gain_of_split, key=gain_of_split.get)\n",
    "print(f\"\\nBest attribute to split on: {best_attribute}\")"
   ]
  },
  {
   "cell_type": "code",
   "execution_count": 3,
   "metadata": {},
   "outputs": [
    {
     "name": "stdout",
     "output_type": "stream",
     "text": [
      "\n",
      "Weak wind data:\n",
      "     Outlook  Temp Humidity  Wind Play\n",
      "0      Sunny   Hot     High  Weak   No\n",
      "2   Overcast   Hot     High  Weak  Yes\n",
      "3       Rain  Mild     High  Weak  Yes\n",
      "4       Rain  Cool   Normal  Weak  Yes\n",
      "7      Sunny  Mild     High  Weak   No\n",
      "8      Sunny  Cool   Normal  Weak  Yes\n",
      "9       Rain  Mild   Normal  Weak  Yes\n",
      "12  Overcast   Hot   Normal  Weak  Yes\n",
      "\n",
      "Strong wind data:\n",
      "     Outlook  Temp Humidity    Wind Play\n",
      "1      Sunny   Hot     High  Strong   No\n",
      "5       Rain  Cool   Normal  Strong   No\n",
      "6   Overcast  Cool   Normal  Strong   No\n",
      "10     Sunny  Mild   Normal  Strong  Yes\n",
      "11  Overcast  Mild     High  Strong   No\n",
      "13      Rain  Mild     High  Strong   No\n"
     ]
    }
   ],
   "source": [
    "# Split the data based on the wind\n",
    "weak = df[df['Wind'] == 'Weak']\n",
    "strong = df[df['Wind'] == 'Strong']\n",
    "\n",
    "# print the data\n",
    "print(\"\\nWeak wind data:\")\n",
    "print(weak)\n",
    "print(\"\\nStrong wind data:\")\n",
    "print(strong)"
   ]
  },
  {
   "cell_type": "code",
   "execution_count": 4,
   "metadata": {},
   "outputs": [
    {
     "name": "stdout",
     "output_type": "stream",
     "text": [
      "\n",
      "Entropy for the data: Wind = Weak\n",
      "Entropy: 0.8113\n",
      "\n",
      "Gain of split for Outlook: 0.4669\n",
      "Gain of split for Temp: 0.1226\n",
      "Gain of split for Humidity: 0.3113\n",
      "\n",
      "Best attribute to split on: Outlook\n",
      "=========================================\n",
      "\n",
      "Entropy for the data: Wind = Strong\n",
      "Entropy: 0.6500\n",
      "\n",
      "Gain of split for Outlook: 0.3167\n",
      "Gain of split for Temp: 0.1909\n",
      "Gain of split for Humidity: 0.1909\n",
      "\n",
      "Best attribute to split on: Outlook\n",
      "=========================================\n"
     ]
    }
   ],
   "source": [
    "# do the same for the weak wind data and the strong wind data\n",
    "for data in [weak, strong]:\n",
    "    play_counts = data['Play'].value_counts()\n",
    "    total = data['Play'].count()\n",
    "    entropy_val = entropy(play_counts / total)\n",
    "    print(f\"\\nEntropy for the data: Wind = {data['Wind'].unique()[0]}\")\n",
    "    print(f\"Entropy: {entropy_val:.4f}\\n\")\n",
    "    gain_of_split = {}\n",
    "    attributes = ['Outlook', 'Temp', 'Humidity']\n",
    "    for attribute in attributes:\n",
    "        attr_entropy = entropy_of_attribute(data, attribute, 'Play')\n",
    "        gain_of_split[attribute] = entropy_val - attr_entropy\n",
    "    for attribute, gain in gain_of_split.items():\n",
    "        print(f\"Gain of split for {attribute}: {gain:.4f}\")\n",
    "    best_attribute = max(gain_of_split, key=gain_of_split.get)\n",
    "    print(f\"\\nBest attribute to split on: {best_attribute}\")\n",
    "    print(\"=========================================\")\n"
   ]
  },
  {
   "cell_type": "code",
   "execution_count": 5,
   "metadata": {},
   "outputs": [
    {
     "name": "stdout",
     "output_type": "stream",
     "text": [
      "Wind = Weak, Outlook = Sunny\n",
      "  Outlook  Temp Humidity  Wind Play\n",
      "0   Sunny   Hot     High  Weak   No\n",
      "7   Sunny  Mild     High  Weak   No\n",
      "8   Sunny  Cool   Normal  Weak  Yes\n",
      "\n",
      "\n",
      "Wind = Weak, Outlook = Overcast\n",
      "     Outlook Temp Humidity  Wind Play\n",
      "2   Overcast  Hot     High  Weak  Yes\n",
      "12  Overcast  Hot   Normal  Weak  Yes\n",
      "\n",
      "\n",
      "Wind = Weak, Outlook = Rain\n",
      "  Outlook  Temp Humidity  Wind Play\n",
      "3    Rain  Mild     High  Weak  Yes\n",
      "4    Rain  Cool   Normal  Weak  Yes\n",
      "9    Rain  Mild   Normal  Weak  Yes\n",
      "\n",
      "\n",
      "Wind = Strong, Outlook = Sunny\n",
      "   Outlook  Temp Humidity    Wind Play\n",
      "1    Sunny   Hot     High  Strong   No\n",
      "10   Sunny  Mild   Normal  Strong  Yes\n",
      "\n",
      "\n",
      "Wind = Strong, Outlook = Overcast\n",
      "     Outlook  Temp Humidity    Wind Play\n",
      "6   Overcast  Cool   Normal  Strong   No\n",
      "11  Overcast  Mild     High  Strong   No\n",
      "\n",
      "\n",
      "Wind = Strong, Outlook = Rain\n",
      "   Outlook  Temp Humidity    Wind Play\n",
      "5     Rain  Cool   Normal  Strong   No\n",
      "13    Rain  Mild     High  Strong   No\n",
      "\n",
      "\n"
     ]
    }
   ],
   "source": [
    "# Split the data based on the outlook\n",
    "weak_sunny = weak[weak['Outlook'] == 'Sunny']\n",
    "weak_overcast = weak[weak['Outlook'] == 'Overcast']\n",
    "weak_rain = weak[weak['Outlook'] == 'Rain']\n",
    "\n",
    "strong_sunny = strong[strong['Outlook'] == 'Sunny']\n",
    "strong_overcast = strong[strong['Outlook'] == 'Overcast']\n",
    "strong_rain = strong[strong['Outlook'] == 'Rain']\n",
    "\n",
    "# print the data\n",
    "print(\"Wind = Weak, Outlook = Sunny\")\n",
    "print(weak_sunny)\n",
    "print(\"\\n\")\n",
    "\n",
    "print(\"Wind = Weak, Outlook = Overcast\")\n",
    "print(weak_overcast)\n",
    "print(\"\\n\")\n",
    "\n",
    "print(\"Wind = Weak, Outlook = Rain\")\n",
    "print(weak_rain)\n",
    "print(\"\\n\")\n",
    "\n",
    "print(\"Wind = Strong, Outlook = Sunny\")\n",
    "print(strong_sunny)\n",
    "print(\"\\n\")\n",
    "\n",
    "print(\"Wind = Strong, Outlook = Overcast\")\n",
    "print(strong_overcast)\n",
    "print(\"\\n\")\n",
    "\n",
    "print(\"Wind = Strong, Outlook = Rain\")\n",
    "print(strong_rain)\n",
    "print(\"\\n\")\n"
   ]
  },
  {
   "cell_type": "code",
   "execution_count": 6,
   "metadata": {},
   "outputs": [
    {
     "name": "stdout",
     "output_type": "stream",
     "text": [
      "\n",
      "Entropy for the data: Wind = Weak\n",
      "  Outlook  Temp Humidity  Wind Play\n",
      "0   Sunny   Hot     High  Weak   No\n",
      "7   Sunny  Mild     High  Weak   No\n",
      "8   Sunny  Cool   Normal  Weak  Yes\n",
      "Entropy: 0.9183\n",
      "\n",
      "Gain of split for Temp: 0.9183\n",
      "Gain of split for Humidity: 0.9183\n",
      "\n",
      "Entropy for the data: Wind = Strong\n",
      "   Outlook  Temp Humidity    Wind Play\n",
      "1    Sunny   Hot     High  Strong   No\n",
      "10   Sunny  Mild   Normal  Strong  Yes\n",
      "Entropy: 1.0000\n",
      "\n",
      "Gain of split for Temp: 1.0000\n",
      "Gain of split for Humidity: 1.0000\n",
      "\n",
      "Randomly choose the attribute to split : humidity\n"
     ]
    }
   ],
   "source": [
    "# do the same for the only for weak_sunny, strong_sunny\n",
    "for data in [weak_sunny, strong_sunny]:\n",
    "    play_counts = data['Play'].value_counts()\n",
    "    total = data['Play'].count()\n",
    "    entropy_val = entropy(play_counts / total)\n",
    "    print(f\"\\nEntropy for the data: Wind = {data['Wind'].unique()[0]}\")\n",
    "    print(data)\n",
    "    print(f\"Entropy: {entropy_val:.4f}\\n\")\n",
    "    gain_of_split = {}\n",
    "    attributes = ['Temp', 'Humidity']\n",
    "    for attribute in attributes:\n",
    "        attr_entropy = entropy_of_attribute(data, attribute, 'Play')\n",
    "        gain_of_split[attribute] = entropy_val - attr_entropy\n",
    "    for attribute, gain in gain_of_split.items():\n",
    "        print(f\"Gain of split for {attribute}: {gain:.4f}\")\n",
    "        \n",
    "# randomly choose the attribute to split on (same gain)\n",
    "print(\"\\nRandomly choose the attribute to split : humidity\")\n"
   ]
  },
  {
   "cell_type": "markdown",
   "metadata": {},
   "source": [
    "![DT_Result](./DT_result.jpeg)"
   ]
  }
 ],
 "metadata": {
  "kernelspec": {
   "display_name": "py39",
   "language": "python",
   "name": "python3"
  },
  "language_info": {
   "codemirror_mode": {
    "name": "ipython",
    "version": 3
   },
   "file_extension": ".py",
   "mimetype": "text/x-python",
   "name": "python",
   "nbconvert_exporter": "python",
   "pygments_lexer": "ipython3",
   "version": "3.9.19"
  }
 },
 "nbformat": 4,
 "nbformat_minor": 2
}
