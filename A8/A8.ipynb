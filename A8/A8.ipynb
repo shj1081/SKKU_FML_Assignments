{
 "cells": [
  {
   "cell_type": "markdown",
   "metadata": {},
   "source": [
    "# A8 : Support Vector Machines 2\n",
    "\n",
    "---"
   ]
  },
  {
   "cell_type": "code",
   "execution_count": 1,
   "metadata": {},
   "outputs": [
    {
     "name": "stdout",
     "output_type": "stream",
     "text": [
      "     pcost       dcost       gap    pres   dres\n",
      " 0: -3.1250e-01 -8.1250e-01  5e-01  0e+00  1e+00\n",
      " 1: -3.3084e-01 -3.3692e-01  6e-03  0e+00  1e-01\n",
      " 2: -3.3333e-01 -3.3340e-01  7e-05  6e-17  2e-04\n",
      " 3: -3.3333e-01 -3.3333e-01  7e-07  0e+00  2e-06\n",
      " 4: -3.3333e-01 -3.3333e-01  7e-09  8e-17  2e-08\n",
      "Optimal solution found.\n",
      "\n",
      "A. Dual coefficients (alphas):\n",
      "   α1 = 0.333333\n",
      "   α2 = 0.333333\n",
      "\n",
      "B. Classification of the point (1,1):\n",
      "   The point (1,1) belongs to class 1\n"
     ]
    }
   ],
   "source": [
    "import numpy as np\n",
    "from cvxopt import matrix, solvers\n",
    "\n",
    "# Training data\n",
    "X = np.array([[0, 1], [-1, 0]])  # Sample features\n",
    "y = np.array([1, -1])            # Sample labels\n",
    "\n",
    "# Dimensions\n",
    "m, n = X.shape\n",
    "\n",
    "# Kernel matrix using the polynomial kernel of degree 2: (x_i * x_j + 1)^2\n",
    "K = (np.dot(X, X.T) + 1) ** 2 * y[:, None] * y[None, :]\n",
    "\n",
    "# Convert matrices to cvxopt format\n",
    "P = matrix(K, tc=\"d\")\n",
    "q = matrix(-np.ones(m), tc=\"d\")\n",
    "G = matrix(-np.eye(m), tc=\"d\")\n",
    "h = matrix(np.zeros(m), tc=\"d\")\n",
    "A = matrix(y, (1, m), tc=\"d\")\n",
    "b = matrix(0.0, tc=\"d\")\n",
    "\n",
    "# Solve the quadratic programming problem\n",
    "solution = solvers.qp(P, q, G, h, A, b)\n",
    "alphas = np.array(solution['x']).flatten()\n",
    "\n",
    "# Print the dual coefficients alpha1 and alpha2\n",
    "print(\"\\nA. Dual coefficients (alphas):\")\n",
    "print(\"   α1 =\", np.round(alphas[0], 6))\n",
    "print(\"   α2 =\", np.round(alphas[1], 6))\n",
    "\n",
    "# Weights and bias calculation using support vectors\n",
    "w = np.sum(alphas * y[:, None] * X, axis=0)\n",
    "sv_index = np.where(alphas > 1e-5)[0]  # Index of support vectors\n",
    "b = y[sv_index[0]] - np.dot(X[sv_index[0]], w)\n",
    "\n",
    "# Classify the point (1, 1)\n",
    "new_point = np.array([1, 1])\n",
    "classification = np.sign(np.dot(w, new_point) + b)\n",
    "\n",
    "print(\"\\nB. Classification of the point (1,1):\")\n",
    "print(\"   The point (1,1) belongs to class\", int(classification))\n"
   ]
  }
 ],
 "metadata": {
  "kernelspec": {
   "display_name": "py39",
   "language": "python",
   "name": "python3"
  },
  "language_info": {
   "codemirror_mode": {
    "name": "ipython",
    "version": 3
   },
   "file_extension": ".py",
   "mimetype": "text/x-python",
   "name": "python",
   "nbconvert_exporter": "python",
   "pygments_lexer": "ipython3",
   "version": "3.9.19"
  }
 },
 "nbformat": 4,
 "nbformat_minor": 2
}
