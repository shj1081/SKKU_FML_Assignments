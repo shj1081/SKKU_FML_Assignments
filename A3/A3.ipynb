{
 "cells": [
  {
   "cell_type": "markdown",
   "id": "2f14d272",
   "metadata": {},
   "source": [
    "# A3\n",
    "\n",
    "---\n",
    "\n",
    "## 1. Make a python program of final algorithm\n",
    "\n",
    "<img src=\"./images/q1.png\" width=\"500\">\n",
    "\n",
    "```python\n",
    "\n",
    "- hyperparameters\n",
    "  - learning rate: 0.01\n",
    "  - iteration: 1000"
   ]
  },
  {
   "cell_type": "code",
   "execution_count": 1,
   "id": "ed10914b",
   "metadata": {},
   "outputs": [
    {
     "name": "stdout",
     "output_type": "stream",
     "text": [
      "Solution: w0 = 9.50964156643118e-05, w1 = 1.4998782027544835\n"
     ]
    }
   ],
   "source": [
    "import numpy as np\n",
    "\n",
    "# Gradient of E with respect to w0 and w1\n",
    "def calc_gradient(w0, w1):\n",
    "    grad_w0 = 4 * w1 + 6 * w0 - 6\n",
    "    grad_w1 = 4 * w1 + 4 * w0 - 6\n",
    "    return np.array([grad_w0, grad_w1])\n",
    "\n",
    "# Gradient Descent Algorithm\n",
    "def gradient_descent_ver1(learning_rate, iteration=1000):\n",
    "    # Randomly initialize w0 and w1\n",
    "    w = np.random.rand(2)\n",
    "\n",
    "    t = 0\n",
    "    while t < iteration:\n",
    "\n",
    "        # Calculate the gradient at the current w\n",
    "        grad = calc_gradient(w[0], w[1])\n",
    "        \n",
    "        # Update w\n",
    "        new_w = w - learning_rate * grad\n",
    "        w = new_w\n",
    "        t += 1\n",
    "    \n",
    "    return w, t\n",
    "\n",
    "# Run the gradient descent algorithm\n",
    "learning_rate = 0.01\n",
    "solution, iterations = gradient_descent_ver1(learning_rate)\n",
    "print(f\"\"\"Solution: w0 = {solution[0]}, w1 = {solution[1]}\"\"\")\n"
   ]
  },
  {
   "cell_type": "markdown",
   "id": "61adbf6c",
   "metadata": {},
   "source": [
    "\n",
    "---\n",
    "\n",
    "## 2. Make Python Program\n",
    "\n",
    "$$D = \\{(x,t)|(-1,1),(0,1),(1,1),(1,0)\\}$$\n",
    "\n",
    "### Qudaratic function optimization\n",
    "\n",
    "At the point which minimize $E(w)=\\sum_{i=1}^{}(f(x_i)-t_i)^2$\n",
    "\n",
    "\n",
    "**a)** $f(x) = w_1x + w_0$\n",
    "\n",
    "\n",
    "**b)** $f(x) = w_1cos(\\pi x) + w_0$\n",
    "\n",
    "the process are following:"
   ]
  },
  {
   "cell_type": "code",
   "execution_count": 2,
   "id": "7b265e3f",
   "metadata": {},
   "outputs": [
    {
     "name": "stdout",
     "output_type": "stream",
     "text": [
      "(a)\n",
      "E(w0, w1) = 4*w0**2 + 2*w0*w1 - 6*w0 + 3*w1**2 + 3\n",
      "dE(w0, w1)/dw0 = 8*w0 + 2*w1 - 6\n",
      "dE(w0, w1)/dw1 = 2*w0 + 6*w1\n",
      "\n",
      "Solution: w0 = 0.8181818181818173, w1 = -0.27272727272727204\n",
      "best fit f(x) = (0.8181818181818173) + (-0.27272727272727204) * x\n",
      "\n",
      "\n",
      "(b)\n",
      "E(w0, w1) = 4*w0**2 - 4.0*w0*w1 - 6*w0 + 4.0*w1**2 + 2.0*w1 + 3\n",
      "dE(w0, w1)/dw0 = 8*w0 - 4.0*w1 - 6\n",
      "dE(w0, w1)/dw1 = -4.0*w0 + 8.0*w1 + 2.0\n",
      "\n",
      "Solution: w0 = 0.8333333333333323, w1 = 0.16666666666666596\n",
      "best fit f(x) = (0.8333333333333323) + (0.16666666666666596) * cos(πx)\n",
      "\n"
     ]
    }
   ],
   "source": [
    "from sympy import symbols, solve \n",
    "\n",
    "# given data points (x, t)\n",
    "given_data = np.array([(-1, 1), (0, 1), (1, 1), (1, 0)])\n",
    "\n",
    "w0, w1= symbols('w0 w1')\n",
    "\n",
    "Error_function = sum([(w0 + w1*x - t)**2 for x, t in given_data])\n",
    "Error_function = Error_function.expand()\n",
    "\n",
    "# redefine calc_gradient function \n",
    "# differentiate Error_function with respect to w0 and w1\n",
    "def calc_gradient(w0, w1):\n",
    "    grad_w0 = 8*w0 + 2*w1 - 6\n",
    "    grad_w1 = 2*w0 + 6*w1\n",
    "    return np.array([grad_w0, grad_w1])\n",
    "\n",
    "\n",
    "print(f\"\"\"(a)\n",
    "E(w0, w1) = {Error_function}\n",
    "dE(w0, w1)/dw0 = {calc_gradient(w0, w1)[0]}\n",
    "dE(w0, w1)/dw1 = {calc_gradient(w0, w1)[1]}\\n\"\"\")\n",
    "\n",
    "# Gradient Descent Algorithm\n",
    "gradient_descent_ver1(learning_rate)\n",
    "solution, iterations = gradient_descent_ver1(learning_rate)\n",
    "print(f\"\"\"Solution: w0 = {solution[0]}, w1 = {solution[1]}\n",
    "best fit f(x) = ({solution[0]}) + ({solution[1]}) * x\\n\"\"\")\n",
    "\n",
    "Error_function = sum([(w0 + w1*np.cos(np.pi*x) - t)**2 for x, t in given_data])\n",
    "Error_function = Error_function.expand()\n",
    "\n",
    "# redefine calc_gradient function\n",
    "# differentiate Error_function with respect to w0 and w1\n",
    "def calc_gradient(w0, w1):\n",
    "    grad_w0 = 8*w0 - 4.0*w1 - 6\n",
    "    grad_w1 = -4.0*w0 + 8.0*w1 + 2.0\n",
    "    return np.array([grad_w0, grad_w1])\n",
    "\n",
    "print(f\"\"\"\\n(b)\n",
    "E(w0, w1) = {Error_function}\n",
    "dE(w0, w1)/dw0 = {calc_gradient(w0, w1)[0]}\n",
    "dE(w0, w1)/dw1 = {calc_gradient(w0, w1)[1]}\\n\"\"\")\n",
    "\n",
    "# Gradient Descent Algorithm\n",
    "gradient_descent_ver1(learning_rate)\n",
    "solution, iterations = gradient_descent_ver1(learning_rate)\n",
    "print(f\"\"\"Solution: w0 = {solution[0]}, w1 = {solution[1]}\n",
    "best fit f(x) = ({solution[0]}) + ({solution[1]}) * cos(πx)\\n\"\"\")"
   ]
  },
  {
   "cell_type": "markdown",
   "id": "14c94a5e",
   "metadata": {},
   "source": [
    "\n",
    "---\n",
    "\n",
    "## 3. Gradient\n",
    "\n",
    "the given f(x) is $f(x) = w_2x + cosw_1x + w_0$\n",
    "\n",
    "Error function is $E(w) = \\sum_{i=1}^{} Error_i$\n",
    "\n",
    "which $Error_i = (f(x_i) - t_i)^2 = (w_2x_i + cosw_1x_i + w_0 - t_i)^2$\n",
    "\n",
    "the process is following:\n"
   ]
  },
  {
   "cell_type": "code",
   "execution_count": 3,
   "id": "4e40a46e",
   "metadata": {},
   "outputs": [
    {
     "name": "stdout",
     "output_type": "stream",
     "text": [
      "Error_i = (w0 + cos(w1*x) + w2*x - t_i)^2\n",
      "dError_i/dw0 = 2*(w0 + cos(w1*x) + w2*x - t_i)\n",
      "dError_i/dw1 = -2*x*sin(w1*x)*(w0 + cos(w1*x) + w2*x - t_i)\n",
      "dError_i/dw2 = 2*x*(w0 + cos(w1*x) + w2*x - t_i)\n",
      "\n",
      "(a)\n",
      "when w0 = 1, w1 = 1, w2 = 1,\n",
      "sum(dError_i/dw0) = dE/dw0 = 9.241813835208838\n",
      "sum(dError_i/dw1) = dE/dw1 = -6.093776219708632\n",
      "sum(dError_i/dw2) = dE/dw2 = 9.08060461173628\n",
      "\n",
      "\n",
      "(b)\n",
      "when w0 =2, w1 = 2, w2 = 2,\n",
      "sum(dError_i/dw0) = dE/dw0 = 13.503118980717147\n",
      "sum(dError_i/dw1) = dE/dw1 = -8.641161635984396\n",
      "sum(dError_i/dw2) = dE/dw2 = 15.167706326905716\n"
     ]
    }
   ],
   "source": [
    "print(f\"\"\"Error_i = (w0 + cos(w1*x) + w2*x - t_i)^2\n",
    "dError_i/dw0 = 2*(w0 + cos(w1*x) + w2*x - t_i)\n",
    "dError_i/dw1 = -2*x*sin(w1*x)*(w0 + cos(w1*x) + w2*x - t_i)\n",
    "dError_i/dw2 = 2*x*(w0 + cos(w1*x) + w2*x - t_i)\"\"\")\n",
    "\n",
    "def calc_gradient(w0=1, w1=1, w2=1):\n",
    "    grad_w0 = sum([2*(w0 + np.cos(w1*x) + w2*x - t_i) for x, t_i in given_data])\n",
    "    grad_w1 = sum([-2*x*np.sin(w1*x)*(w0 + np.cos(w1*x) + w2*x - t_i) for x, t_i in given_data])\n",
    "    grad_w2 = sum([2*x*(w0 + np.cos(w1*x) + w2*x - t_i) for x, t_i in given_data])\n",
    "    return np.array([grad_w0, grad_w1, grad_w2])\n",
    "\n",
    "print(f\"\"\"\n",
    "(a)\n",
    "when w0 = 1, w1 = 1, w2 = 1,\n",
    "sum(dError_i/dw0) = dE/dw0 = {calc_gradient()[0]}\n",
    "sum(dError_i/dw1) = dE/dw1 = {calc_gradient()[1]}\n",
    "sum(dError_i/dw2) = dE/dw2 = {calc_gradient()[2]}\\n\"\"\")\n",
    "\n",
    "print(f\"\"\"\n",
    "(b)\n",
    "when w0 =2, w1 = 2, w2 = 2,\n",
    "sum(dError_i/dw0) = dE/dw0 = {calc_gradient(2, 2, 2)[0]}\n",
    "sum(dError_i/dw1) = dE/dw1 = {calc_gradient(2, 2, 2)[1]}\n",
    "sum(dError_i/dw2) = dE/dw2 = {calc_gradient(2, 2, 2)[2]}\"\"\")\n",
    "\n"
   ]
  },
  {
   "cell_type": "markdown",
   "id": "7e912e4e",
   "metadata": {},
   "source": [
    "\n",
    "---\n",
    "\n",
    "## 4. Python program for enw algorithm\n",
    "\n",
    "<img src=\"./images/q4.png\" width=\"500\">\n",
    "\n",
    "\n"
   ]
  },
  {
   "cell_type": "code",
   "execution_count": 17,
   "id": "9078f1ee",
   "metadata": {},
   "outputs": [
    {
     "name": "stdout",
     "output_type": "stream",
     "text": [
      "Error_i = (w0 + cos(w1*x) + w2*x - t_i)^2\n",
      "Solution: w0 = 0.0009170157064287247, w1 = 0.7245106494902539, w2 = -0.24990559574069385\n",
      "best fit f(x) = 0.0009170157064287247 + cos(0.7245106494902539 * x) + (-0.24990559574069385) * x\n"
     ]
    }
   ],
   "source": [
    "print(\"Error_i = (w0 + cos(w1*x) + w2*x - t_i)^2\")\n",
    "\n",
    "def calc_gradient_ver2(w0, w1, w2, given_data=given_data):\n",
    "    total_dE_dw0, total_dE_dw1, total_dE_dw2 = 0, 0, 0\n",
    "    for x, t in given_data:\n",
    "        error = w2 * x + np.cos(w1 * x) + w0 - t\n",
    "        dEi_dw0 = 2 * error\n",
    "        dEi_dw1 = 2 * error * (-x * np.sin(w1 * x))\n",
    "        dEi_dw2 = 2 * error * x\n",
    "        total_dE_dw0 += dEi_dw0\n",
    "        total_dE_dw1 += dEi_dw1\n",
    "        total_dE_dw2 += dEi_dw2\n",
    "    return np.array([total_dE_dw0, total_dE_dw1, total_dE_dw2])\n",
    "\n",
    "# \n",
    "def gradient_descent_ver2(learning_rate, max_iter=1000):\n",
    "    w = np.random.rand(3)\n",
    "    t = 0\n",
    "    while t < max_iter:\n",
    "        grad = calc_gradient_ver2(w[0], w[1], w[2])\n",
    "        new_w = w - learning_rate * grad\n",
    "        w = new_w\n",
    "        t += 1\n",
    "    return w, t\n",
    "\n",
    "learning_rate = 0.01\n",
    "solution, iterations = gradient_descent_ver2(learning_rate)\n",
    "print(f\"\"\"Solution: w0 = {solution[0]}, w1 = {solution[1]}, w2 = {solution[2]}\"\"\")\n",
    "print(f\"\"\"best fit f(x) = {solution[0]} + cos({solution[1]} * x) + ({solution[2]}) * x\"\"\")\n"
   ]
  }
 ],
 "metadata": {
  "kernelspec": {
   "display_name": "py39",
   "language": "python",
   "name": "python3"
  },
  "language_info": {
   "codemirror_mode": {
    "name": "ipython",
    "version": 3
   },
   "file_extension": ".py",
   "mimetype": "text/x-python",
   "name": "python",
   "nbconvert_exporter": "python",
   "pygments_lexer": "ipython3",
   "version": "3.9.19"
  }
 },
 "nbformat": 4,
 "nbformat_minor": 5
}
